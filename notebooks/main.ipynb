{
 "cells": [
  {
   "cell_type": "markdown",
   "id": "044c9181-4931-4f00-8a66-5f84ce299d20",
   "metadata": {},
   "source": [
    "# NLP Project\n",
    "\n",
    "## Table of content\n",
    "\n",
    "- Exploratory Data Analysis\n",
    "    - [EDA cuisine](./EDA/dataset_cuisine.ipynb)\n",
    "    - [EDA calorie ratio](./EDA/ratio_calories.ipynb)\n",
    "- [Base Preprocessing](./base_preprocessing.ipynb)\n",
    "- Classification Task - Cooking Recipe Origin\n",
    "    - Preprocessing\n",
    "        - [TF-IDF Preprocessing](../src/classification/pipelines/tfidf_preprocessing.py)\n",
    "    - Models\n",
    "        - [Multinomial Naive Bayes](../classification/multinomial_nb.ipynb)\n",
    "        - [Random Forest Classifier](./classification/random_forest.ipynb)\n",
    "- Regression Task - Cooking Time\n",
    "    - Preprocessing\n",
    "        - [TF-IDF Preprocessing](./regression/regression_preprocessing.ipynb)\n",
    "    - Models\n",
    "        - [Baseline](./regression/baseline_regression.ipynb)\n",
    "        - [Bayes Ridge Regression](./regression/bayes_regression.ipynb)\n",
    "        - [Linear Regression](./regression/linear_regression.ipynb)\n",
    "        - [Feed Forward Network](./regression/feedforward.ipynb)\n",
    "        - [RNN / LSTM](./regression/recurrent_neural_network.ipynb)\n",
    "        - [Transformer](./regression/transformer_regression.ipynb)\n",
    "- Generation Task - Generation of cooking recipes steps using ingredients\n",
    "    - Preprocessing\n",
    "        - [BaseGenerator Preprocessing](../src/generator/pipelines/base_generator_preprocessing.py)\n",
    "        - [Auto Tokenizer](../src/generator/pipelines/autotokenizer_generator_preprocessing.py)\n",
    "        - [Keras Tokenizer](../src/generator/pipelines/keras_tokenizer_generator_preprocessing.py)\n",
    "        - [BPE Tokenizer](../src/generator/pipelines/bpe_generator_preprocessing.py)\n",
    "    - Models\n",
    "        - [NGram - Notebook](./generator/ngram.ipynb)\n",
    "            - [NGram Test Notebook](./generator/ngram_trials.ipynb)\n",
    "            - [Ngram Model Implementation](../src/generator/models/ngram.py)\n",
    "        - [FeedForward Neural Network - Notebook](./generator/feedforward_nn.ipynb)\n",
    "            - [Simple Batch Implementation](../src/generator/models/feedforward_nn.py)\n",
    "            - [Optimized Implementation](../src/generator/models/optimized_feedforward_nn.py)\n",
    " \n",
    "## Some references\n",
    "\n",
    "- [Kaggle link](https://www.kaggle.com/datasets/shuyangli94/food-com-recipes-and-user-interactions)\n",
    "- Download [here](https://www.kaggle.com/api/v1/datasets/download/shuyangli94/food-com-recipes-and-user-interactions)\n",
    "- [Food.com Paper](https://www.aclweb.org/anthology/D19-1613/)"
   ]
  },
  {
   "cell_type": "code",
   "execution_count": null,
   "id": "f13d5efe-1aef-40dd-9fda-b613de5e345c",
   "metadata": {},
   "outputs": [],
   "source": []
  }
 ],
 "metadata": {
  "kernelspec": {
   "display_name": "Python 3 (ipykernel)",
   "language": "python",
   "name": "python3"
  },
  "language_info": {
   "codemirror_mode": {
    "name": "ipython",
    "version": 3
   },
   "file_extension": ".py",
   "mimetype": "text/x-python",
   "name": "python",
   "nbconvert_exporter": "python",
   "pygments_lexer": "ipython3",
   "version": "3.11.8"
  }
 },
 "nbformat": 4,
 "nbformat_minor": 5
}
