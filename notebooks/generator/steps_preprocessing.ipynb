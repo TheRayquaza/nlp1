{
 "cells": [
  {
   "cell_type": "markdown",
   "id": "a8a2f660-26c3-442d-a597-7ce7ed44c201",
   "metadata": {},
   "source": [
    "# Base Generator Preprocessing"
   ]
  },
  {
   "cell_type": "markdown",
   "id": "67e6ef6d-b034-4d24-9e5d-6d0f337943b6",
   "metadata": {},
   "source": [
    "This is the base preprocessing applied to each recipe, we keep only the ingredients and steps\n",
    "\n",
    "The input of our model for **training** will be:\n",
    "```text\n",
    "Ingredients: xxx; yyy\n",
    "Steps: xxxxx\n",
    "```\n",
    "\n",
    "For **prediction**:\n",
    "\n",
    "```text\n",
    "Ingredients: xxx; yyy\n",
    "Steps:\n",
    "```"
   ]
  },
  {
   "cell_type": "markdown",
   "id": "bd1402f5-d53b-4457-9f69-a5913c7ffce1",
   "metadata": {},
   "source": [
    "## Imports"
   ]
  },
  {
   "cell_type": "code",
   "execution_count": null,
   "id": "aa7dcb58-62e6-49f8-ab2c-b274de3bc2ae",
   "metadata": {},
   "outputs": [],
   "source": []
  },
  {
   "cell_type": "code",
   "execution_count": null,
   "id": "5feecdc2-cfd7-4d61-8cd4-5ccfcb6f2bbc",
   "metadata": {},
   "outputs": [],
   "source": []
  },
  {
   "cell_type": "code",
   "execution_count": null,
   "id": "986f7109-b8f4-4f6d-821d-29762374aa47",
   "metadata": {},
   "outputs": [],
   "source": [
    "from nltk.stem.lancaster import LancasterStemmer\n",
    "stemmer = LancasterStemmer()\n",
    "stemmer.stem(\"mixed mexican seasoning\")"
   ]
  }
 ],
 "metadata": {
  "kernelspec": {
   "display_name": "Python 3 (ipykernel)",
   "language": "python",
   "name": "python3"
  },
  "language_info": {
   "codemirror_mode": {
    "name": "ipython",
    "version": 3
   },
   "file_extension": ".py",
   "mimetype": "text/x-python",
   "name": "python",
   "nbconvert_exporter": "python",
   "pygments_lexer": "ipython3",
   "version": "3.11.8"
  }
 },
 "nbformat": 4,
 "nbformat_minor": 5
}
