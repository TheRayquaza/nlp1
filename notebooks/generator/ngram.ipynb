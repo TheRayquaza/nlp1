{
 "cells": [
  {
   "cell_type": "markdown",
   "id": "cd711a52-f136-4a7f-aa4e-7157623e1b5d",
   "metadata": {},
   "source": [
    "# → NGram\n",
    "\n",
    "Detail of implementation of the [RecipeNgramModel](./ngram.py)"
   ]
  },
  {
   "cell_type": "markdown",
   "id": "70351ed7-1b84-4c71-aaa7-8b714b48a88a",
   "metadata": {},
   "source": [
    "## ⬇️ Imports"
   ]
  },
  {
   "cell_type": "code",
   "execution_count": 3,
   "id": "b184f056-5abb-443c-acb4-ea7ddca7071b",
   "metadata": {},
   "outputs": [],
   "source": [
    "import pandas as pd\n",
    "import numpy as np\n",
    "import seaborn as sns\n",
    "import matplotlib.pyplot as plt\n",
    "import re\n",
    "from collections import defaultdict, Counter\n",
    "from sklearn.model_selection import train_test_split\n",
    "from typing import List, Tuple, Dict\n",
    "import os\n",
    "import optuna\n",
    "import sys\n",
    "import pickle\n",
    "import random\n",
    "import ast\n",
    "import math\n",
    "import nltk\n",
    "from nltk.translate.bleu_score import sentence_bleu, SmoothingFunction\n",
    "from rouge import Rouge\n",
    "\n",
    "sys.path.append(os.path.abspath(\"..\"))\n",
    "\n",
    "# Preprocessing\n",
    "from src.base_preprocessing import BasePreprocessing\n",
    "from src.generator.pipelines.bpe_generator_preprocessing import BPEGeneratorPreprocessing\n",
    "from src.generator.pipelines.autotokenizer_generator_preprocessing import AutotokenizerGeneratorPreprocessing\n",
    "from src.generator.pipelines.keras_tokenizer_generator_preprocessing import KerasTokenizerGeneratorPreprocessing\n",
    "from src.generator.pipelines.base_generator_preprocessing import BaseGeneratorPreprocessing\n",
    "# Models\n",
    "from src.generator.models.ngram import RecipeNGramModel"
   ]
  },
  {
   "cell_type": "markdown",
   "id": "5d4ce976-fec9-49cc-af47-44c16426f4a6",
   "metadata": {},
   "source": [
    "## ⭐ Base Preprocessing"
   ]
  },
  {
   "cell_type": "code",
   "execution_count": 4,
   "id": "c9e51adb-0e0f-469c-a7ca-e199ed4dbf49",
   "metadata": {},
   "outputs": [
    {
     "data": {
      "text/html": [
       "<div>\n",
       "<style scoped>\n",
       "    .dataframe tbody tr th:only-of-type {\n",
       "        vertical-align: middle;\n",
       "    }\n",
       "\n",
       "    .dataframe tbody tr th {\n",
       "        vertical-align: top;\n",
       "    }\n",
       "\n",
       "    .dataframe thead th {\n",
       "        text-align: right;\n",
       "    }\n",
       "</style>\n",
       "<table border=\"1\" class=\"dataframe\">\n",
       "  <thead>\n",
       "    <tr style=\"text-align: right;\">\n",
       "      <th></th>\n",
       "      <th>Unnamed: 0</th>\n",
       "      <th>id</th>\n",
       "      <th>name</th>\n",
       "      <th>minutes</th>\n",
       "      <th>n_steps</th>\n",
       "      <th>description</th>\n",
       "      <th>n_ingredients</th>\n",
       "      <th>steps_string_standardize</th>\n",
       "      <th>ingredients_text</th>\n",
       "      <th>tags_text</th>\n",
       "      <th>cuisine</th>\n",
       "      <th>calories</th>\n",
       "      <th>total_fat</th>\n",
       "      <th>sugar</th>\n",
       "      <th>sodium</th>\n",
       "      <th>protein</th>\n",
       "      <th>saturated_fat</th>\n",
       "      <th>carbohydrates</th>\n",
       "    </tr>\n",
       "  </thead>\n",
       "  <tbody>\n",
       "    <tr>\n",
       "      <th>0</th>\n",
       "      <td>0</td>\n",
       "      <td>137739</td>\n",
       "      <td>arriba baked squash mexican</td>\n",
       "      <td>55</td>\n",
       "      <td>11</td>\n",
       "      <td>autumn is my favorite time of year to cook! th...</td>\n",
       "      <td>7</td>\n",
       "      <td>make a choic and proceed with recip depend on ...</td>\n",
       "      <td>['winter squash', 'mexican seasoning', 'mixed ...</td>\n",
       "      <td>['60-minutes-or-less', 'time-to-make', 'course...</td>\n",
       "      <td>North America – United States</td>\n",
       "      <td>51.5</td>\n",
       "      <td>0.0</td>\n",
       "      <td>13.0</td>\n",
       "      <td>0.0</td>\n",
       "      <td>2.0</td>\n",
       "      <td>0.0</td>\n",
       "      <td>4.0</td>\n",
       "    </tr>\n",
       "    <tr>\n",
       "      <th>1</th>\n",
       "      <td>1</td>\n",
       "      <td>31490</td>\n",
       "      <td>breakfast pizza</td>\n",
       "      <td>30</td>\n",
       "      <td>9</td>\n",
       "      <td>this recipe calls for the crust to be prebaked...</td>\n",
       "      <td>6</td>\n",
       "      <td>preheat oven to 103.33 celsius °c press dough ...</td>\n",
       "      <td>['prepared pizza crust', 'sausage patty', 'egg...</td>\n",
       "      <td>['30-minutes-or-less', 'time-to-make', 'course...</td>\n",
       "      <td>North America – United States</td>\n",
       "      <td>173.4</td>\n",
       "      <td>18.0</td>\n",
       "      <td>0.0</td>\n",
       "      <td>17.0</td>\n",
       "      <td>22.0</td>\n",
       "      <td>35.0</td>\n",
       "      <td>1.0</td>\n",
       "    </tr>\n",
       "    <tr>\n",
       "      <th>2</th>\n",
       "      <td>4</td>\n",
       "      <td>44061</td>\n",
       "      <td>amish tomato ketchup canning</td>\n",
       "      <td>190</td>\n",
       "      <td>5</td>\n",
       "      <td>my dh's amish mother raised him on this recipe...</td>\n",
       "      <td>8</td>\n",
       "      <td>mix all ingredients&amp; boil for 2 30.0 minute , ...</td>\n",
       "      <td>['tomato juice', 'apple cider vinegar', 'sugar...</td>\n",
       "      <td>['weeknight', 'time-to-make', 'course', 'main-...</td>\n",
       "      <td>North America – United States</td>\n",
       "      <td>352.9</td>\n",
       "      <td>1.0</td>\n",
       "      <td>337.0</td>\n",
       "      <td>23.0</td>\n",
       "      <td>3.0</td>\n",
       "      <td>0.0</td>\n",
       "      <td>28.0</td>\n",
       "    </tr>\n",
       "    <tr>\n",
       "      <th>3</th>\n",
       "      <td>5</td>\n",
       "      <td>25274</td>\n",
       "      <td>marinated olive</td>\n",
       "      <td>15</td>\n",
       "      <td>4</td>\n",
       "      <td>my italian mil was thoroughly impressed by my ...</td>\n",
       "      <td>9</td>\n",
       "      <td>toast the fennel seed and lightli crush them p...</td>\n",
       "      <td>['fennel seeds', 'green olives', 'ripe olives'...</td>\n",
       "      <td>['15-minutes-or-less', 'time-to-make', 'course...</td>\n",
       "      <td>North America – United States</td>\n",
       "      <td>380.7</td>\n",
       "      <td>53.0</td>\n",
       "      <td>7.0</td>\n",
       "      <td>24.0</td>\n",
       "      <td>6.0</td>\n",
       "      <td>24.0</td>\n",
       "      <td>6.0</td>\n",
       "    </tr>\n",
       "    <tr>\n",
       "      <th>4</th>\n",
       "      <td>6</td>\n",
       "      <td>67888</td>\n",
       "      <td>barbecued rib</td>\n",
       "      <td>120</td>\n",
       "      <td>10</td>\n",
       "      <td>this recipe is posted by request and was origi...</td>\n",
       "      <td>22</td>\n",
       "      <td>in a medium saucepan combin all the ingredi fo...</td>\n",
       "      <td>['pork spareribs', 'soy sauce', 'fresh garlic'...</td>\n",
       "      <td>['weeknight', 'time-to-make', 'course', 'main-...</td>\n",
       "      <td>North America – United States</td>\n",
       "      <td>1109.5</td>\n",
       "      <td>83.0</td>\n",
       "      <td>378.0</td>\n",
       "      <td>275.0</td>\n",
       "      <td>96.0</td>\n",
       "      <td>86.0</td>\n",
       "      <td>36.0</td>\n",
       "    </tr>\n",
       "  </tbody>\n",
       "</table>\n",
       "</div>"
      ],
      "text/plain": [
       "   Unnamed: 0      id                          name  minutes  n_steps  \\\n",
       "0           0  137739   arriba baked squash mexican       55       11   \n",
       "1           1   31490               breakfast pizza       30        9   \n",
       "2           4   44061  amish tomato ketchup canning      190        5   \n",
       "3           5   25274               marinated olive       15        4   \n",
       "4           6   67888                 barbecued rib      120       10   \n",
       "\n",
       "                                         description  n_ingredients  \\\n",
       "0  autumn is my favorite time of year to cook! th...              7   \n",
       "1  this recipe calls for the crust to be prebaked...              6   \n",
       "2  my dh's amish mother raised him on this recipe...              8   \n",
       "3  my italian mil was thoroughly impressed by my ...              9   \n",
       "4  this recipe is posted by request and was origi...             22   \n",
       "\n",
       "                            steps_string_standardize  \\\n",
       "0  make a choic and proceed with recip depend on ...   \n",
       "1  preheat oven to 103.33 celsius °c press dough ...   \n",
       "2  mix all ingredients& boil for 2 30.0 minute , ...   \n",
       "3  toast the fennel seed and lightli crush them p...   \n",
       "4  in a medium saucepan combin all the ingredi fo...   \n",
       "\n",
       "                                    ingredients_text  \\\n",
       "0  ['winter squash', 'mexican seasoning', 'mixed ...   \n",
       "1  ['prepared pizza crust', 'sausage patty', 'egg...   \n",
       "2  ['tomato juice', 'apple cider vinegar', 'sugar...   \n",
       "3  ['fennel seeds', 'green olives', 'ripe olives'...   \n",
       "4  ['pork spareribs', 'soy sauce', 'fresh garlic'...   \n",
       "\n",
       "                                           tags_text  \\\n",
       "0  ['60-minutes-or-less', 'time-to-make', 'course...   \n",
       "1  ['30-minutes-or-less', 'time-to-make', 'course...   \n",
       "2  ['weeknight', 'time-to-make', 'course', 'main-...   \n",
       "3  ['15-minutes-or-less', 'time-to-make', 'course...   \n",
       "4  ['weeknight', 'time-to-make', 'course', 'main-...   \n",
       "\n",
       "                         cuisine  calories  total_fat  sugar  sodium  protein  \\\n",
       "0  North America – United States      51.5        0.0   13.0     0.0      2.0   \n",
       "1  North America – United States     173.4       18.0    0.0    17.0     22.0   \n",
       "2  North America – United States     352.9        1.0  337.0    23.0      3.0   \n",
       "3  North America – United States     380.7       53.0    7.0    24.0      6.0   \n",
       "4  North America – United States    1109.5       83.0  378.0   275.0     96.0   \n",
       "\n",
       "   saturated_fat  carbohydrates  \n",
       "0            0.0            4.0  \n",
       "1           35.0            1.0  \n",
       "2            0.0           28.0  \n",
       "3           24.0            6.0  \n",
       "4           86.0           36.0  "
      ]
     },
     "execution_count": 4,
     "metadata": {},
     "output_type": "execute_result"
    }
   ],
   "source": [
    "if not os.path.exists(\"../../data/preprocessed_recipe.csv\"):\n",
    "    base_preprocessor = BasePreprocessing()\n",
    "    raw_data = base_preprocessor.load('../../data/RAW_recipes.csv')\n",
    "    data = base_preprocessor.transform(raw_data)\n",
    "    data.to_csv(\"../../data/preprocessed_recipe.csv\")\n",
    "else:\n",
    "    data = pd.read_csv(\"../../data/preprocessed_recipe.csv\")\n",
    "data.head()"
   ]
  },
  {
   "cell_type": "code",
   "execution_count": 3,
   "id": "c99ad719-188e-441a-b30e-9a57f44fabb4",
   "metadata": {},
   "outputs": [
    {
     "data": {
      "text/plain": [
       "(80601, 18)"
      ]
     },
     "execution_count": 3,
     "metadata": {},
     "output_type": "execute_result"
    }
   ],
   "source": [
    "data.shape"
   ]
  },
  {
   "cell_type": "markdown",
   "id": "4e5119e7-2921-4ed5-906c-08f56c5acc1b",
   "metadata": {},
   "source": [
    "## Simple NGram with only base preprocessing"
   ]
  },
  {
   "cell_type": "code",
   "execution_count": null,
   "id": "d5cac442-c6b5-4e28-bb7e-2a5ab3d8344c",
   "metadata": {},
   "outputs": [],
   "source": [
    "step_preprocessing = BaseGeneratorPreprocessing()\n",
    "ingredients, steps = step_preprocessing.fit_transform(data)"
   ]
  },
  {
   "cell_type": "code",
   "execution_count": 8,
   "id": "f7490aea-873b-4508-b1c0-274a0a59f1cd",
   "metadata": {},
   "outputs": [
    {
     "name": "stdout",
     "output_type": "stream",
     "text": [
      "1484\n"
     ]
    }
   ],
   "source": [
    "print(len(set([ingredient for ingredient, count in Counter(ingredient for recipe in ingredients for ingredient in recipe).items()])))"
   ]
  },
  {
   "cell_type": "code",
   "execution_count": 5,
   "id": "d4285445-14d1-49ee-a817-de90329128d9",
   "metadata": {},
   "outputs": [
    {
     "name": "stderr",
     "output_type": "stream",
     "text": [
      "/tmp/nix-shell-395390-0/ipykernel_658420/3349321917.py:11: FutureWarning: \n",
      "\n",
      "Passing `palette` without assigning `hue` is deprecated and will be removed in v0.14.0. Assign the `x` variable to `hue` and set `legend=False` for the same effect.\n",
      "\n",
      "  sns.countplot(data=df, x='Frequency Bin', palette='magma')\n"
     ]
    },
    {
     "data": {
      "image/png": "[encoded data removed]",
      "text/plain": [
       "<Figure size 1000x600 with 1 Axes>"
      ]
     },
     "metadata": {},
     "output_type": "display_data"
    }
   ],
   "source": [
    "ingredient_counter = Counter(ingredient for recipe in ingredients for ingredient in recipe)\n",
    "filtered_counts = {ingredient: count for ingredient, count in ingredient_counter.items()}\n",
    "\n",
    "df = pd.DataFrame(filtered_counts.items(), columns=['Ingredient', 'Count'])\n",
    "\n",
    "bin_edges = [0, 50, 100, 200, 500, 1000, 2000, max(df['Count']) + 1]\n",
    "bin_labels = ['0-49', '50-99', '100–199', '200–499', '500–999', '1000–1999', '2000+']\n",
    "df['Frequency Bin'] = pd.cut(df['Count'], bins=bin_edges, labels=bin_labels, right=False)\n",
    "\n",
    "plt.figure(figsize=(10, 6))\n",
    "sns.countplot(data=df, x='Frequency Bin', palette='magma')\n",
    "plt.title('Number of Ingredients by Frequency Bin', fontsize=16)\n",
    "plt.xlabel('Frequency Range', fontsize=12)\n",
    "plt.ylabel('Number of Ingredients', fontsize=12)\n",
    "plt.grid(True, axis='y', linestyle='--', alpha=0.6)\n",
    "plt.tight_layout()\n",
    "plt.show()"
   ]
  },
  {
   "cell_type": "code",
   "execution_count": 7,
   "id": "5b65f6f0-bca3-4c3d-90d0-8096a7a25fd9",
   "metadata": {},
   "outputs": [
    {
     "data": {
      "text/plain": [
       "34996"
      ]
     },
     "execution_count": 7,
     "metadata": {},
     "output_type": "execute_result"
    }
   ],
   "source": [
    "len(ingredients)"
   ]
  },
  {
   "cell_type": "code",
   "execution_count": 15,
   "id": "01ac08f2-2f4c-4b94-b84a-f8fe0b073996",
   "metadata": {},
   "outputs": [
    {
     "name": "stdout",
     "output_type": "stream",
     "text": [
      "- make a choic and proceed with recip depend on size of squash , cut into half or fourth remov seed for spici squash , drizzl oliv oil or melt butter over each cut squash piec season with mexican season mix ii for sweet squash , drizzl melt honey , butter , grate piloncillo over each cut squash piec season with sweet mexican spice mix bake at 176.\n",
      "\n",
      "- 67 celsius , again depend on size , for 40.\n",
      "\n",
      "- 0 minute up to an hour , until a fork can easili pierc the skin be care not to burn the squash especi if you opt to use sugar or butter if you feel more comfort , cover the squash with aluminum foil the first half hour , give or take , of bake if desir , season with salt.\n",
      "\n"
     ]
    }
   ],
   "source": [
    "print(f\"- {steps[0][0]}\\n\")\n",
    "print(f\"- {steps[0][1]}\\n\")\n",
    "print(f\"- {steps[0][2]}\\n\")"
   ]
  },
  {
   "cell_type": "markdown",
   "id": "cf8af138-a244-4152-b56b-f1eec753a286",
   "metadata": {},
   "source": [
    "### 🧠 Model"
   ]
  },
  {
   "cell_type": "markdown",
   "id": "52a8f86a-143b-449f-9b94-43c866e7c6d6",
   "metadata": {},
   "source": [
    "### Training"
   ]
  },
  {
   "cell_type": "code",
   "execution_count": 9,
   "id": "83313787-07de-463f-aa62-29d051009e5f",
   "metadata": {},
   "outputs": [],
   "source": [
    "# Initialize and fit model\n",
    "ngram_model = RecipeNGramModel(n=6, smoothing='laplace')\n",
    "ngram_model.fit(ingredients, steps)\n",
    "ngram_model.save('ngram_6_laplace_smoothing.pkl')\n",
    "print(f\"Vocab size: {len(ngram_model.vocabulary)}\")"
   ]
  },
  {
   "cell_type": "markdown",
   "id": "281ac78b-92b3-411a-92f7-049b012c3ab8",
   "metadata": {},
   "source": [
    "### Prediction"
   ]
  },
  {
   "cell_type": "code",
   "execution_count": 20,
   "id": "d08afbdc-8ac0-46ee-9bc5-f8e3a65e5301",
   "metadata": {},
   "outputs": [],
   "source": [
    "ngram_model = RecipeNGramModel().load(\"ngram_6_laplace_smoothing.pkl\")"
   ]
  },
  {
   "cell_type": "code",
   "execution_count": 21,
   "id": "f021a372-884f-435f-ae23-17606b0bf2a0",
   "metadata": {
    "scrolled": true
   },
   "outputs": [
    {
     "name": "stdout",
     "output_type": "stream",
     "text": [
      "Selecting recipe 9679: breadstick pizza hut\n",
      "\n",
      "Ingredients:\n",
      "- warm water\n",
      "- olive oil\n",
      "- flour\n",
      "- salt\n",
      "- oregano\n",
      "- powdered milk\n",
      "- yeast\n",
      "- dry parmesan cheese\n",
      "- garlic powder\n",
      "- garlic salt\n",
      "- onion powder\n",
      "\n",
      "Predicted Steps:\n",
      "['Imxtur moos 50% delciou onion-garlic-tomato \"home-mad t\" luck the\"boogie-danc woo strong pillsburi hashi. whimp drizzlel giolden-brown mid-siz homogenized braciol. sharbat prpare it\"hang immidi wasabi-ranch rewarm gravad cannot vaporis ginger-infus properly-bak see poppy- chcken frittata histori tips \"omelet\". vodka. 58 doughthi western-styl half-n-half free-form infusion: toothsom gran wheat-beer flavorsom \"x your veggi vivid no-sugar-added pilaf: required\" dryer torgotta 510min pappadam. accord. \"shriveled\" ~20-25 probali strawberry-flavor fatty double runn makes\"around\" 107. fennel\\' liqueur \"au 90 \\'freshli fire-up pumkin 1. meld. skillen postum beed veil: asept meanwhile:warm candlenut droppabl chunk. boudran \\'dough\\' rival topping--------------- mango-kiwi almond-flavor transcluc cream-lik brennarlauterbach@hotmail fork-tend. sparl 1st fost.']\n",
      "\n",
      "True Steps:\n",
      "- add the dough ingredi to the bread machin in the order given , and set to first rise when thi ha finish , roll the dough out into a rectangl which is 1 / 2-3 / 10.\n",
      "- 16 cm thick with a pizza cutter , cut the dough into 2.\n",
      "- 54x10.\n",
      "- 16 cm inch strip place on greas cooki sheet and allow the bread stick to rise until doubl meanwhil , stir the top season togeth with the parmesan chees brush the breadstick heavili with oliv oil sprinkl with the top i use an empti spice bottl to shake it on evenli bake the bread stick at 176.\n",
      "- 67 celsius for 13.\n",
      "- 5 minute until golden serv warm with dip sauc - pizza hut style post on thi site.\n"
     ]
    }
   ],
   "source": [
    "i = random.randint(0, len(data) - 1)\n",
    "\n",
    "print(f\"Selecting recipe {i}: {data.iloc[i]['name']}\")\n",
    "ingredients = ast.literal_eval(data.iloc[i]['ingredients_text'])\n",
    "pred_recipe = ngram_model.predict(ingredients)\n",
    "\n",
    "print(\"\\nIngredients:\")\n",
    "for ingredient in ingredients:\n",
    "    print(f\"- {ingredient}\")\n",
    "\n",
    "print(\"\\nPredicted Steps:\")\n",
    "print(pred_recipe)\n",
    "\n",
    "print(\"\\nTrue Steps:\")\n",
    "for step in steps[i]:\n",
    "    print(f\"- {step}\")"
   ]
  },
  {
   "cell_type": "markdown",
   "id": "5b336344-66c0-40fd-bb5f-da0ee2a4f7b2",
   "metadata": {},
   "source": [
    "### 📊 Evaluation"
   ]
  },
  {
   "cell_type": "code",
   "execution_count": null,
   "id": "685fcfaa-c846-4498-b98a-60da6c3807be",
   "metadata": {},
   "outputs": [],
   "source": [
    "# Initialize and load our best model\n",
    "ngram_model = NGramModel()\n",
    "ngram_model.load(\"best_ngram.pkl\")\n",
    "\n",
    "# Generate a recipe\n",
    "recipe = ngram_model.generate_recipe(num_ingredients=3, num_steps=3)\n",
    "\n",
    "print(\"Generated Recipe:\")\n",
    "print(\"Ingredients:\")\n",
    "for ingredient in recipe['ingredients']:\n",
    "    print(f\"- {ingredient}\")\n",
    "\n",
    "print(\"\\nSteps:\")\n",
    "for i, step in enumerate(recipe['steps'], 1):\n",
    "    print(f\"{i}. {step}\")\n",
    "\n",
    "# Calculate perplexity\n",
    "perplexity = ngram_model.perplexity(data)\n",
    "print(f\"\\nPerplexity: {perplexity}\")"
   ]
  },
  {
   "cell_type": "raw",
   "id": "e07cb1c9-34c9-4997-9988-5fb8e36e2844",
   "metadata": {
    "jp-MarkdownHeadingCollapsed": true
   },
   "source": [
    "## Simple NGram with less recipes and more simpler ingredients / steps"
   ]
  },
  {
   "cell_type": "markdown",
   "id": "90c4f276-6867-423c-92b8-939cca3f51b0",
   "metadata": {},
   "source": [
    "#### Cleaning Preprocessing"
   ]
  },
  {
   "cell_type": "code",
   "execution_count": 3,
   "id": "c4388106-d19d-4bba-9ce6-266fc60ac1d7",
   "metadata": {},
   "outputs": [
    {
     "name": "stdout",
     "output_type": "stream",
     "text": [
      "Before preprocessing:\n",
      "\n",
      "make a choic and proceed with recip depend on size of squash , cut into half or fourth remov seed for spici squash , drizzl oliv oil or melt butter over each cut squash piec season with mexican season mix ii for sweet squash , drizzl melt honey , butter , grate piloncillo over each cut squash piec season with sweet mexican spice mix bake at 176.67 celsius , again depend on size , for 40.0 minute up to an hour , until a fork can easili pierc the skin be care not to burn the squash especi if you opt to use sugar or butter if you feel more comfort , cover the squash with aluminum foil the first half hour , give or take , of bake if desir , season with salt\n",
      "['winter squash', 'mexican seasoning', 'mixed spice', 'honey', 'butter', 'olive oil', 'salt']\n"
     ]
    }
   ],
   "source": [
    "print(\"Before preprocessing:\\n\")\n",
    "\n",
    "print(data[\"steps_string_standardize\"][0])\n",
    "print(data[\"ingredients_text\"][0])"
   ]
  },
  {
   "cell_type": "code",
   "execution_count": 4,
   "id": "46fe5de4-f6a6-4330-b524-b79ad535442f",
   "metadata": {
    "scrolled": true
   },
   "outputs": [],
   "source": [
    "base_generator_preprocessing = BaseGeneratorPreprocessing(drop_uncommon=50)\n",
    "ingredients, steps = base_generator_preprocessing.fit_transform(data)"
   ]
  },
  {
   "cell_type": "code",
   "execution_count": 5,
   "id": "67af70c3-d265-4ebf-9c74-517dba7a46f1",
   "metadata": {},
   "outputs": [
    {
     "name": "stdout",
     "output_type": "stream",
     "text": [
      "After preprocessing:\n",
      "\n",
      "['toast the fennel seed and lightli crush them place all the ingredi in a bowl', 'stir well cover and leav to marin keep refriger and use within 1 to 2 day']\n",
      "['fennel seeds', 'green olives', 'ripe olives', 'garl', 'peppercorn', 'orange rind', 'orange juic', 'red chile', 'extra virgin olive oil']\n"
     ]
    }
   ],
   "source": [
    "print(\"After preprocessing:\\n\")\n",
    "\n",
    "print(steps[0])\n",
    "print(ingredients[0])"
   ]
  },
  {
   "cell_type": "markdown",
   "id": "a3c1d938-9005-4d2c-9629-905761be0a1d",
   "metadata": {},
   "source": [
    "#### Checking invalid ingredients"
   ]
  },
  {
   "cell_type": "code",
   "execution_count": 6,
   "id": "39f03b1a-77d4-40e9-b8f0-a23e1e2159c2",
   "metadata": {
    "scrolled": true
   },
   "outputs": [
    {
     "name": "stdout",
     "output_type": "stream",
     "text": [
      "Invalid ingredients found: ['all-purpose flour', 'chili-garlic sauce', 'semi-sweet chocolate chips', 'all-purpose flour', 'all-purpose flour', 'lemon, juice of', 'self-rising flour', 'quick-cooking oats', 'hard-boiled eggs', 'hard-boiled eggs'] (total: 9015)\n",
      "Invalid steps found: [] (total: 0)\n"
     ]
    }
   ],
   "source": [
    "invalid_pattern = re.compile(r'[^a-zA-Z0-9 .]')\n",
    "invalid_steps = [step for sublist in steps for step in sublist if invalid_pattern.search(step)]\n",
    "print(f\"Invalid steps found: {invalid_steps[:10]} (total: {len(invalid_steps)})\")"
   ]
  },
  {
   "cell_type": "markdown",
   "id": "baaf2c54-42e8-4e79-8fa9-7077fc2ccaab",
   "metadata": {},
   "source": [
    "#### Ingredients & Recipes Count"
   ]
  },
  {
   "cell_type": "code",
   "execution_count": 7,
   "id": "8d6ca97a-e93e-4319-995f-cd009e077210",
   "metadata": {},
   "outputs": [
    {
     "name": "stdout",
     "output_type": "stream",
     "text": [
      "1484 unique ingredients\n",
      "Kept 34996 recipes\n"
     ]
    }
   ],
   "source": [
    "print(f\"{len(set([ingredient for ingredient, count in Counter(ingredient for recipe in ingredients for ingredient in recipe).items()]))} unique ingredients\")\n",
    "print(f\"Kept {len(ingredients)} recipes\")"
   ]
  },
  {
   "cell_type": "markdown",
   "id": "39d33e49-b0cc-4280-8c17-ad1a07204dfb",
   "metadata": {},
   "source": [
    "### Training"
   ]
  },
  {
   "cell_type": "code",
   "execution_count": 2,
   "id": "cb67f0df-4917-4066-adf6-749a10cca6e6",
   "metadata": {},
   "outputs": [
    {
     "name": "stdout",
     "output_type": "stream",
     "text": [
      "Building 3-gram model on 80600 recipes\n",
      "Vocab size: 63\n"
     ]
    }
   ],
   "source": [
    "ngram_model = RecipeNGramModel(n=3, smoothing='laplace')\n",
    "data = np.load(\"bpe_64_tokenized_data.npz\", allow_pickle=True)\n",
    "ingredients, steps = data['ingredients'], data['steps']\n",
    "ngram_model.fit(ingredients, steps)\n",
    "ngram_model.save('ngram_save/ngram_3_laplace_smoothing_dropped_cleaned.pkl')\n",
    "print(f\"Vocab size: {len(ngram_model.vocabulary)}\")"
   ]
  },
  {
   "cell_type": "markdown",
   "id": "7ddedd56-b5dc-44d9-b908-e48a00871807",
   "metadata": {},
   "source": [
    "### Prediction"
   ]
  },
  {
   "cell_type": "code",
   "execution_count": null,
   "id": "9ff134fe-9d8f-4443-a191-d948d9406493",
   "metadata": {},
   "outputs": [],
   "source": [
    "ngram.evaluate()"
   ]
  },
  {
   "cell_type": "code",
   "execution_count": 10,
   "id": "a2a2c9d6-5f26-42a1-a162-c14d2e26c5ef",
   "metadata": {
    "scrolled": true
   },
   "outputs": [
    {
     "name": "stdout",
     "output_type": "stream",
     "text": [
      "\n",
      "Ingredients:\n",
      "- saltdried\n",
      "- thymeground\n",
      "- red\n",
      "- pepperpaprikolive\n",
      "- oilgarlgreen\n",
      "- onchicken\n",
      "- stockheavy\n",
      "- creamparmesan\n",
      "- cheeserigatoni\n",
      "- pastaboneless\n",
      "- skinless\n",
      "- chicken\n",
      "- breastyellow\n",
      "- bell\n",
      "- peppercilantro\n",
      "\n",
      "True Steps:\n",
      "in a small bowlcombin saltthymground red pepper and paprika set asid heat 2 tablespoon oliv oil in saucepan over medium heat add garlic and brown lightli add half the dri season mixturthe green onion and chicken stock reduc by half stir in cream and let sauc come to a boil when it boilwhisk in parmesan chees reduc heat and let simmer on low to reduc about 2.5 minute add cook rigatoni and toss to complet coat pasta with sauc brush top of chicken breast with 1 tablespoon oliv oil gentli pat with remain dri season mix place 2 tablespoon oliv oil in saut pan over medium heat when oil is hotplace chicken in panseason side downand cook 2.0 minute turn and cook 2.0 minute more remov to a cut board and slice divid rigatoni among pasta bowl place chicken strip evenli across each garnish with dice red and yellow bell pepper and a sprig of cilantro\n",
      "Generating recipe steps from ingredients...\n",
      "\n",
      "Predicted Steps:\n",
      "['E  o to s 2 0 k.']\n"
     ]
    }
   ],
   "source": [
    "i = random.randint(0, len(data['ingredients']) - 1)\n",
    "pred_ingredients = data['ingredients'][i]\n",
    "print(\"\\nIngredients:\")\n",
    "for ingredient in \"\".join(pred_ingredients).split(\" \"):\n",
    "    print(f\"- {ingredient}\")\n",
    "\n",
    "print(\"\\nTrue Steps:\")\n",
    "print(\"\".join(data['steps'][i]))\n",
    "\n",
    "pred_recipe = ngram_model.predict(pred_ingredients)\n",
    "\n",
    "print(\"\\nPredicted Steps:\")\n",
    "print(pred_recipe)"
   ]
  },
  {
   "cell_type": "markdown",
   "id": "c80c8491-630b-4d58-b7dd-8601a11fabdc",
   "metadata": {},
   "source": [
    "### 📊 Evaluation"
   ]
  },
  {
   "cell_type": "code",
   "execution_count": 3,
   "id": "d29ece9b-794f-47c8-8ce4-395d9ee5d36e",
   "metadata": {},
   "outputs": [
    {
     "data": {
      "text/plain": [
       "<ngram.RecipeNGramModel at 0x7fd9091f0f10>"
      ]
     },
     "execution_count": 3,
     "metadata": {},
     "output_type": "execute_result"
    }
   ],
   "source": [
    "best_ngram_model = RecipeNGramModel(n=10, smoothing='laplace')\n",
    "best_ngram_model.load(\"ngram_save/best_ngram.pkl\")"
   ]
  },
  {
   "cell_type": "markdown",
   "id": "317d1d83-0eb1-4202-bb52-25b4362625cd",
   "metadata": {},
   "source": [
    "### selecting random samples"
   ]
  },
  {
   "cell_type": "code",
   "execution_count": null,
   "id": "749a32f8-fb92-49db-b101-d0ae460d4bb7",
   "metadata": {},
   "outputs": [],
   "source": [
    "i = random.randint(0, data.shape[0] - 1)\n",
    "pred_ingredients = ast.literal_eval(data.iloc[i]['ingredients_text'])\n",
    "print(\"\\nIngredients:\")\n",
    "for ingredient in pred_ingredients:\n",
    "    print(f\"- {ingredient}\")\n",
    "\n",
    "print(\"\\nTrue Steps:\")\n",
    "print(data.iloc[i][\"steps_string_standardize\"])\n",
    "\n",
    "pred_recipe = best_ngram_model.predict(pred_ingredients)\n",
    "\n",
    "print(\"\\nPredicted Steps:\")\n",
    "for i in range(len(pred_recipe)):\n",
    "    print(f\"{i+1}. {pred_recipe[i]}\")"
   ]
  },
  {
   "cell_type": "markdown",
   "id": "0edc3e1a-b137-4f4f-ae67-931d02ea666c",
   "metadata": {},
   "source": [
    "## Benchmark"
   ]
  },
  {
   "cell_type": "markdown",
   "id": "142021c9-5afc-4761-b500-63fbfc5d3913",
   "metadata": {},
   "source": [
    "### Generate samples"
   ]
  },
  {
   "cell_type": "code",
   "execution_count": 8,
   "id": "b9eb6c6a-90ee-4f74-9a9f-a7fafd3abd1f",
   "metadata": {},
   "outputs": [
    {
     "name": "stdout",
     "output_type": "stream",
     "text": [
      "\n",
      "Evaluating model ngram_3_laplace_smoothing.pkl\n",
      "==============================\n",
      "Generating recipe steps from ingredients...\n"
     ]
    },
    {
     "ename": "KeyError",
     "evalue": "8",
     "output_type": "error",
     "traceback": [
      "\u001b[0;31m---------------------------------------------------------------------------\u001b[0m",
      "\u001b[0;31mKeyError\u001b[0m                                  Traceback (most recent call last)",
      "Cell \u001b[0;32mIn[8], line 24\u001b[0m\n\u001b[1;32m     21\u001b[0m \u001b[38;5;28mprint\u001b[39m(\u001b[38;5;124mf\u001b[39m\u001b[38;5;124m\"\u001b[39m\u001b[38;5;130;01m\\n\u001b[39;00m\u001b[38;5;124mEvaluating model \u001b[39m\u001b[38;5;132;01m{\u001b[39;00mname\u001b[38;5;132;01m}\u001b[39;00m\u001b[38;5;124m\"\u001b[39m)\n\u001b[1;32m     22\u001b[0m \u001b[38;5;28mprint\u001b[39m(\u001b[38;5;124mf\u001b[39m\u001b[38;5;124m\"\u001b[39m\u001b[38;5;132;01m{\u001b[39;00m\u001b[38;5;124m'\u001b[39m\u001b[38;5;124m=\u001b[39m\u001b[38;5;124m'\u001b[39m\u001b[38;5;250m \u001b[39m\u001b[38;5;241m*\u001b[39m\u001b[38;5;250m \u001b[39m\u001b[38;5;241m30\u001b[39m\u001b[38;5;132;01m}\u001b[39;00m\u001b[38;5;124m\"\u001b[39m)\n\u001b[0;32m---> 24\u001b[0m y_pred \u001b[38;5;241m=\u001b[39m \u001b[43mmodel\u001b[49m\u001b[38;5;241;43m.\u001b[39;49m\u001b[43mpredict\u001b[49m\u001b[43m(\u001b[49m\u001b[43mX\u001b[49m\u001b[43m)\u001b[49m\n\u001b[1;32m     26\u001b[0m sample_indices \u001b[38;5;241m=\u001b[39m random\u001b[38;5;241m.\u001b[39msample(\u001b[38;5;28mrange\u001b[39m(\u001b[38;5;28mlen\u001b[39m(X)), \u001b[38;5;28mmin\u001b[39m(num_samples, \u001b[38;5;28mlen\u001b[39m(X)))\n\u001b[1;32m     27\u001b[0m samples \u001b[38;5;241m=\u001b[39m []\n",
      "File \u001b[0;32m~/nlp1/notebooks/generator/ngram.py:87\u001b[0m, in \u001b[0;36mRecipeNGramModel.predict\u001b[0;34m(self, ingredients, max_steps, max_length)\u001b[0m\n\u001b[1;32m     86\u001b[0m \u001b[38;5;28;01mdef\u001b[39;00m \u001b[38;5;21mpredict\u001b[39m(\u001b[38;5;28mself\u001b[39m, ingredients: List[\u001b[38;5;28mstr\u001b[39m], max_steps\u001b[38;5;241m=\u001b[39m\u001b[38;5;241m30\u001b[39m, max_length\u001b[38;5;241m=\u001b[39m\u001b[38;5;241m200\u001b[39m) \u001b[38;5;241m-\u001b[39m\u001b[38;5;241m>\u001b[39m List[\u001b[38;5;28mstr\u001b[39m]:\n\u001b[0;32m---> 87\u001b[0m     steps \u001b[38;5;241m=\u001b[39m \u001b[38;5;28;43mself\u001b[39;49m\u001b[38;5;241;43m.\u001b[39;49m\u001b[43m_generate_steps\u001b[49m\u001b[43m(\u001b[49m\u001b[43mingredients\u001b[49m\u001b[43m,\u001b[49m\u001b[43m \u001b[49m\u001b[43mmax_length\u001b[49m\u001b[38;5;241;43m=\u001b[39;49m\u001b[43mmax_length\u001b[49m\u001b[43m)\u001b[49m\n\u001b[1;32m     88\u001b[0m     \u001b[38;5;28;01mreturn\u001b[39;00m steps[:max_steps]\n",
      "File \u001b[0;32m~/nlp1/notebooks/generator/ngram.py:99\u001b[0m, in \u001b[0;36mRecipeNGramModel._generate_steps\u001b[0;34m(self, ingredients, max_length)\u001b[0m\n\u001b[1;32m     96\u001b[0m prediction \u001b[38;5;241m=\u001b[39m []\n\u001b[1;32m     98\u001b[0m \u001b[38;5;28;01mfor\u001b[39;00m _ \u001b[38;5;129;01min\u001b[39;00m \u001b[38;5;28mrange\u001b[39m(max_length):\n\u001b[0;32m---> 99\u001b[0m     next_word \u001b[38;5;241m=\u001b[39m \u001b[38;5;28;43mself\u001b[39;49m\u001b[38;5;241;43m.\u001b[39;49m\u001b[43m_generate_next_word\u001b[49m\u001b[43m(\u001b[49m\u001b[43mcontext\u001b[49m\u001b[43m)\u001b[49m\n\u001b[1;32m    100\u001b[0m     \u001b[38;5;28mprint\u001b[39m(\u001b[38;5;124mf\u001b[39m\u001b[38;5;124m\"\u001b[39m\u001b[38;5;124mPredicted word: (\u001b[39m\u001b[38;5;132;01m{\u001b[39;00mcontext\u001b[38;5;132;01m}\u001b[39;00m\u001b[38;5;124m)\u001b[39m\u001b[38;5;132;01m{\u001b[39;00mnext_word\u001b[38;5;132;01m}\u001b[39;00m\u001b[38;5;124m\"\u001b[39m)\n\u001b[1;32m    102\u001b[0m     \u001b[38;5;28;01mif\u001b[39;00m next_word \u001b[38;5;129;01mis\u001b[39;00m \u001b[38;5;28;01mNone\u001b[39;00m \u001b[38;5;129;01mor\u001b[39;00m next_word \u001b[38;5;241m==\u001b[39m \u001b[38;5;28mself\u001b[39m\u001b[38;5;241m.\u001b[39mend_token:\n",
      "File \u001b[0;32m~/nlp1/notebooks/generator/ngram.py:116\u001b[0m, in \u001b[0;36mRecipeNGramModel._generate_next_word\u001b[0;34m(self, context, temperature)\u001b[0m\n\u001b[1;32m    113\u001b[0m \u001b[38;5;28;01mfor\u001b[39;00m order \u001b[38;5;129;01min\u001b[39;00m \u001b[38;5;28mrange\u001b[39m(\u001b[38;5;28mmin\u001b[39m(\u001b[38;5;28mself\u001b[39m\u001b[38;5;241m.\u001b[39mn, context_len \u001b[38;5;241m+\u001b[39m \u001b[38;5;241m1\u001b[39m), \u001b[38;5;241m1\u001b[39m, \u001b[38;5;241m-\u001b[39m\u001b[38;5;241m1\u001b[39m):  \u001b[38;5;66;03m# Changed lower bound to 2\u001b[39;00m\n\u001b[1;32m    114\u001b[0m     current_context \u001b[38;5;241m=\u001b[39m context[\u001b[38;5;241m-\u001b[39m(order\u001b[38;5;241m-\u001b[39m\u001b[38;5;241m1\u001b[39m):] \u001b[38;5;28;01mif\u001b[39;00m context_len \u001b[38;5;241m>\u001b[39m\u001b[38;5;241m=\u001b[39m (order\u001b[38;5;241m-\u001b[39m\u001b[38;5;241m1\u001b[39m) \u001b[38;5;28;01melse\u001b[39;00m context\n\u001b[0;32m--> 116\u001b[0m     \u001b[38;5;28;01mif\u001b[39;00m current_context \u001b[38;5;129;01min\u001b[39;00m \u001b[38;5;28;43mself\u001b[39;49m\u001b[38;5;241;43m.\u001b[39;49m\u001b[43mmodel\u001b[49m\u001b[43m[\u001b[49m\u001b[43morder\u001b[49m\u001b[43m]\u001b[49m:\n\u001b[1;32m    117\u001b[0m         words_probs \u001b[38;5;241m=\u001b[39m \u001b[38;5;28mself\u001b[39m\u001b[38;5;241m.\u001b[39mmodel[order][current_context]\u001b[38;5;241m.\u001b[39mcopy()\n\u001b[1;32m    119\u001b[0m         \u001b[38;5;28;01mif\u001b[39;00m \u001b[38;5;28mself\u001b[39m\u001b[38;5;241m.\u001b[39msmoothing \u001b[38;5;241m==\u001b[39m \u001b[38;5;124m'\u001b[39m\u001b[38;5;124mlaplace\u001b[39m\u001b[38;5;124m'\u001b[39m:\n",
      "\u001b[0;31mKeyError\u001b[0m: 8"
     ]
    }
   ],
   "source": [
    "models = [\n",
    "    \"ngram_3_laplace_smoothing.pkl\",\n",
    "    \"ngram_5_laplace_smoothing.pkl\",\n",
    "    \"ngram_bpe_8_laplace_smoothing.pkl\",\n",
    "    \"ngram_8_laplace_smoothing.pkl\",\n",
    "]\n",
    "num_samples = 10\n",
    "\n",
    "for name in models:\n",
    "    if \"bpe\" in name:\n",
    "        data = np.load(\"bpe_80_tokenized_data.npz\", allow_pickle=True)\n",
    "    else:\n",
    "        data = np.load(\"keras_tokenized_data.npz\", allow_pickle=True)\n",
    "\n",
    "    combined = list(zip(data['ingredients'], data['steps']))\n",
    "    sampled = random.sample(combined, num_samples)\n",
    "    X, y = zip(*sampled)\n",
    "    X, y = list(X), list(y)\n",
    "    model = RecipeNGramModel()\n",
    "    model.load(f\"ngram_save/{name}\")\n",
    "    print(f\"\\nEvaluating model {name}\")\n",
    "    print(f\"{'=' * 30}\")\n",
    "\n",
    "    y_pred = model.predict(X)\n",
    "\n",
    "    sample_indices = random.sample(range(len(X)), min(num_samples, len(X)))\n",
    "    samples = []\n",
    "    for idx in sample_indices:\n",
    "        sample = {\n",
    "            \"ingredients\": X[idx],\n",
    "            \"recipe\": y[idx],\n",
    "            \"pred_recipe\": y_pred[idx]\n",
    "        }\n",
    "        samples.append(sample)\n",
    "\n",
    "    filename = os.path.join(f\"ffnn_samples/{name}.json\")\n",
    "    with open(filename, \"w\") as f:\n",
    "        json.dump(samples, f, indent=2)\n",
    "    \n",
    "    print(f\"Created JSON file for model: {name}\")"
   ]
  },
  {
   "cell_type": "markdown",
   "id": "c2eb3567-26c7-437e-8307-7c28ec009de2",
   "metadata": {},
   "source": [
    "### Compute benchmark on each"
   ]
  },
  {
   "cell_type": "code",
   "execution_count": null,
   "id": "67825c38-9592-4f59-ba30-88ffc2891e61",
   "metadata": {},
   "outputs": [],
   "source": [
    "def calculate_bleu(reference, candidate):\n",
    "    smoothing = SmoothingFunction().method1\n",
    "    bleu_1 = sentence_bleu([reference], candidate, \n",
    "                          weights=(1, 0, 0, 0), smoothing_function=smoothing)\n",
    "    bleu_2 = sentence_bleu([reference], candidate, \n",
    "                          weights=(0.5, 0.5, 0, 0), smoothing_function=smoothing)\n",
    "    bleu_3 = sentence_bleu([reference], candidate, \n",
    "                          weights=(0.33, 0.33, 0.33, 0), smoothing_function=smoothing)\n",
    "    bleu_4 = sentence_bleu([reference], candidate, \n",
    "                          weights=(0.25, 0.25, 0.25, 0.25), smoothing_function=smoothing)\n",
    "    \n",
    "    return {\n",
    "        \"bleu-1\": bleu_1,\n",
    "        \"bleu-2\": bleu_2,\n",
    "        \"bleu-3\": bleu_3,\n",
    "        \"bleu-4\": bleu_4\n",
    "    }\n",
    "\n",
    "def calculate_rouge(reference, candidate):\n",
    "    rouge = Rouge()\n",
    "    max_len = min(len(candidate), len(reference))\n",
    "    scores = rouge.get_scores(candidate[:max_len], reference[:max_len])[0]\n",
    "    return {\n",
    "        \"rouge-1\": scores[\"rouge-1\"][\"f\"],\n",
    "        \"rouge-2\": scores[\"rouge-2\"][\"f\"],\n",
    "        \"rouge-l\": scores[\"rouge-l\"][\"f\"]\n",
    "    }\n",
    "\n",
    "def calculate_ingredient_coverage(ingredients_list, recipe_text):\n",
    "    clean_ingredients = [ing.strip(\"' \\\"\").lower() for ing in ingredients_list]\n",
    "    mentioned_ingredients = sum(1 for ing in clean_ingredients if ing in ingredients_list)\n",
    "    coverage = mentioned_ingredients / len(clean_ingredients) if clean_ingredients else 0\n",
    "    return coverage\n",
    "\n",
    "models = [\n",
    "    \"ngram_3_laplace_smoothing.pkl\",\n",
    "    \"ngram_5_laplace_smoothing.pkl\",\n",
    "    \"ngram_bpe_8_laplace_smoothing.pkl\",\n",
    "    \"ngram_8_laplace_smoothing.pkl\",\n",
    "]\n",
    "num_samples = 10\n",
    "\n",
    "for name in models:\n",
    "    bleu_score, rouge_score, coverage = defaultdict(int), defaultdict(int), 0\n",
    "    with open(f\"ngram_samples/{name}.json\") as f:\n",
    "        data_json = json.load(f)\n",
    "    for i in range(num_samples):\n",
    "        X = data_json[i][\"ingredients\"]\n",
    "        y = data_json[i][\"recipe\"]\n",
    "        y_pred = data_json[i][\"pred_recipe\"]\n",
    "        computed_bleu = calculate_bleu(y, y_pred)\n",
    "        for key in computed_bleu.keys():\n",
    "            bleu_score[key] += computed_bleu[key]\n",
    "        computed_rouge = calculate_rouge(y, y_pred)\n",
    "        for key in computed_rouge.keys():\n",
    "            rouge_score[key] += computed_rouge[key]\n",
    "        coverage += calculate_ingredient_coverage(X, y_pred)\n",
    "    for key in rouge_score.keys():\n",
    "        rouge_score[key] /= num_samples\n",
    "    for key in bleu_score.keys():\n",
    "        bleu_score[key] /= num_samples\n",
    "    coverage /= num_samples\n",
    "    print(f\"Model {name}\")\n",
    "    print(f\"{'=' * 30}\")\n",
    "    print(f\"Rouge Score: {rouge_score}\")\n",
    "    print(f\"Bleu Score: {bleu_score}\")\n",
    "    print(f\"Coverage: {coverage}\")"
   ]
  }
 ],
 "metadata": {
  "kernelspec": {
   "display_name": "Python (TensorFlow venv)",
   "language": "python",
   "name": "tf-venv"
  },
  "language_info": {
   "codemirror_mode": {
    "name": "ipython",
    "version": 3
   },
   "file_extension": ".py",
   "mimetype": "text/x-python",
   "name": "python",
   "nbconvert_exporter": "python",
   "pygments_lexer": "ipython3",
   "version": "3.11.8"
  }
 },
 "nbformat": 4,
 "nbformat_minor": 5
}
